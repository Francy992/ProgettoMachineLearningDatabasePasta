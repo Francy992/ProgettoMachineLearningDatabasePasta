{
 "cells": [
  {
   "cell_type": "code",
   "execution_count": 1,
   "metadata": {},
   "outputs": [],
   "source": [
    "#Variabilil globali\n",
    "width = 256\n",
    "height = 256"
   ]
  },
  {
   "cell_type": "markdown",
   "metadata": {},
   "source": [
    "# TODO:\n",
    "- Far partire Visdom\n",
    "- Far funzionare accuracy.\n",
    "- Sistemare cartelle e codice.\n",
    "- Data agumentation\n",
    "- Finetuning -->(Ipotesi utilizzare alexnet implementata senza classificazione)\n",
    "- Aumentare il knn con data agumentation."
   ]
  },
  {
   "cell_type": "markdown",
   "metadata": {},
   "source": [
    "# Import necessari"
   ]
  },
  {
   "cell_type": "code",
   "execution_count": 2,
   "metadata": {},
   "outputs": [],
   "source": [
    "import torchvision.models as models\n",
    "from torch.utils.data.dataset import Dataset\n",
    "from PIL import Image\n",
    "from os import path\n",
    "from torchvision import transforms\n",
    "import numpy as np\n",
    "import torch\n",
    "from torch.utils.data import DataLoader\n",
    "import torch.nn as nn\n",
    "import pandas as pd\n",
    "from sklearn.neighbors import KNeighborsClassifier as KNN\n",
    "from torch.autograd import Variable\n"
   ]
  },
  {
   "cell_type": "markdown",
   "metadata": {},
   "source": [
    "# Classe per la gestione del dataset"
   ]
  },
  {
   "cell_type": "code",
   "execution_count": 3,
   "metadata": {},
   "outputs": [],
   "source": [
    "np.random.seed(1234)\n",
    "torch.random.manual_seed(1234);\n",
    "\n",
    "class ScenesDataset(Dataset):\n",
    "    def __init__(self,base_path,txt_list,transform=None):\n",
    "        #conserviamo il path alla cartella contenente le immagini\n",
    "        self.base_path=base_path\n",
    "        #carichiamo la lista dei file\n",
    "        #sarà una matrice con n righe (numero di immagini) e 2 colonne (path, etichetta)\n",
    "        self.images = np.loadtxt(txt_list,dtype=str,delimiter=',')\n",
    "        #print(\"self.images ha i seguenti elementi:\", len(self.images))\n",
    "        #conserviamo il riferimento alla trasformazione da applicare\n",
    "        self.transform = transform\n",
    "    def __getitem__(self, index):\n",
    "        #print(\"Get item numero -->\", index)\n",
    "        #recuperiamo il path dell'immagine di indice index e la relativa etichetta\n",
    "        f,c = self.images[index]\n",
    "        #carichiamo l'immagine utilizzando PIL e facciamo il resize a 3 canali.\n",
    "        im = Image.open(path.join(self.base_path, f)).convert(\"RGB\")\n",
    "        \n",
    "        #Resize:\n",
    "        im = im.resize((width,height))\n",
    "        #se la trasfromazione è definita, applichiamola all'immagine\n",
    "        if self.transform is not None:\n",
    "            im = self.transform(im)       \n",
    "        \n",
    "        #convertiamo l'etichetta in un intero\n",
    "        label = int(c)\n",
    "        #restituiamo un dizionario contenente immagine etichetta\n",
    "        #print(\"Mentre creo il tutto, label vale-->\", label, \", name vale -->\", f)\n",
    "        return {'image' : im, 'label':label, 'name': f}\n",
    "    #restituisce il numero di campioni: la lunghezza della lista \"images\"\n",
    "    def __len__(self):\n",
    "        #print(\"Ho invocato len, vale-->\", len(self.images))\n",
    "        return len(self.images)"
   ]
  },
  {
   "cell_type": "markdown",
   "metadata": {},
   "source": [
    "# Prendiamo media e varianza per normalizzare successivamente i dati"
   ]
  },
  {
   "cell_type": "code",
   "execution_count": 4,
   "metadata": {},
   "outputs": [
    {
     "name": "stdout",
     "output_type": "stream",
     "text": [
      "Medie [0.53432863 0.50716533 0.5028028 ]\n",
      "Dev.Std. [0.35351087 0.32069801 0.2918144 ]\n"
     ]
    }
   ],
   "source": [
    "dataset = ScenesDataset('Dataset','train.txt',transform=transforms.ToTensor())\n",
    "m = np.zeros(3)\n",
    "for sample in dataset:\n",
    "    m+= np.array(sample['image'].sum(1).sum(1)) #accumuliamo la somma dei pixel canale per canale\n",
    "#dividiamo per il numero di immagini moltiplicato per il numero di pixel\n",
    "m=m/(len(dataset)*width*height)\n",
    "#procedura simile per calcolare la deviazione standard\n",
    "s = np.zeros(3)\n",
    "for sample in dataset:\n",
    "    s+= np.array(((sample['image']-torch.Tensor(m).view(3,1,1))**2).sum(1).sum(1))\n",
    "s=np.sqrt(s/(len(dataset)*width*height))\n",
    "print(\"Medie\",m)\n",
    "print(\"Dev.Std.\",s)"
   ]
  },
  {
   "cell_type": "markdown",
   "metadata": {},
   "source": [
    "# Creiamo Oggetto Dataset e dataloader"
   ]
  },
  {
   "cell_type": "code",
   "execution_count": 5,
   "metadata": {},
   "outputs": [],
   "source": [
    "transformss = transforms.Compose([transforms.ToTensor(), transforms.Normalize(m,s)])\n",
    "barilla_train = ScenesDataset('Dataset','train.txt',transform=transformss)\n",
    "barilla_test = ScenesDataset('Dataset','test.txt',transform=transformss)\n",
    "barilla_train_loader = torch.utils.data.DataLoader(barilla_train, batch_size=1, num_workers=0, shuffle=True)\n",
    "barilla_test_loader = torch.utils.data.DataLoader(barilla_test, batch_size=1, num_workers=0)"
   ]
  },
  {
   "cell_type": "markdown",
   "metadata": {},
   "source": [
    "# Utilizziamo AlexNet con i parametri pre-allenati ed eliminiamo il layer di classificazione."
   ]
  },
  {
   "cell_type": "code",
   "execution_count": 6,
   "metadata": {},
   "outputs": [
    {
     "data": {
      "text/plain": [
       "57003840"
      ]
     },
     "execution_count": 6,
     "metadata": {},
     "output_type": "execute_result"
    }
   ],
   "source": [
    "net = models.alexnet(pretrained=True)\n",
    "classifier = nn.Sequential(*list(net.classifier.children())[:-1])\n",
    "net.classifier = classifier\n",
    "sum([p.numel() for p in net.parameters()])"
   ]
  },
  {
   "cell_type": "markdown",
   "metadata": {},
   "source": [
    "# Funzione per calcolare l'accuracy."
   ]
  },
  {
   "cell_type": "code",
   "execution_count": 12,
   "metadata": {},
   "outputs": [],
   "source": [
    "# Prende in input l'array di feature e il classificatore(knn.) \n",
    "def accuracy(classifier, samples):\n",
    "    right_pred = 0\n",
    "    for i in range(len(samples)):\n",
    "        pred_label = classifier.predict(samples[i][\"feature\"].cpu().detach().numpy().reshape(1, -1))\n",
    "        if pred_label[0] == samples[i][\"label\"]:\n",
    "            right_pred += 1\n",
    "            \n",
    "    return float(right_pred)/len(samples)"
   ]
  },
  {
   "cell_type": "markdown",
   "metadata": {},
   "source": [
    "# Funzione per estrazione feature:\n",
    "- In input dataset (dataloader) e rete."
   ]
  },
  {
   "cell_type": "code",
   "execution_count": 8,
   "metadata": {},
   "outputs": [],
   "source": [
    "def extract_features(dataset, net):\n",
    "    #Presa ogni riga del dataloader li passa alla net senza attivare il layer di classificazione\n",
    "    feature_dataset = []\n",
    "    print(\"Avviato extract_feature.\")\n",
    "    for i, dataset_train in enumerate(dataset):\n",
    "        x=Variable(dataset_train['image'], requires_grad=False)\n",
    "        y=Variable(dataset_train['label'])\n",
    "        x, y = x.cpu(), y.cpu()\n",
    "        if torch.cuda.is_available():\n",
    "            x, y = x.cuda(), y.cuda()\n",
    "            #print(\"Con cuda\")\n",
    "        output = net(x)\n",
    "        feature_dataset.append({\"label\": dataset_train['label'], \"feature\":output, \"name\": dataset_train['name']})\n",
    "    return feature_dataset"
   ]
  },
  {
   "cell_type": "markdown",
   "metadata": {},
   "source": [
    "# Funzione per creare l'input per l'oggetto dataframe:\n",
    "- In input dataset (dataloader) e rete."
   ]
  },
  {
   "cell_type": "code",
   "execution_count": 9,
   "metadata": {},
   "outputs": [],
   "source": [
    "def get_dataframe(dataset, net):\n",
    "    print(\"Avviato get_dataframe.\")\n",
    "    feature_dataset = extract_features(dataset, net)  \n",
    "    feature_dataset_matrix = np.zeros((len(feature_dataset), len(feature_dataset[0][\"feature\"][0])))    \n",
    "    #Qui abbiamo nelle righe tutte le immagini, nella lable feature tutte le 9000 colonne, ossia le feature.\n",
    "    label_array = np.zeros(len(feature_dataset))\n",
    "    for i in range(0, len(feature_dataset)):#302\n",
    "        for j in range(0, len(feature_dataset[0][\"feature\"][0])):#9206\n",
    "            if j == 0:#salviamo la y finale nell'array label_array\n",
    "                label_array[i] = feature_dataset[i]['label'][0]\n",
    "                print(i, end= \" \")\n",
    "            feature_dataset_matrix[i][j] =feature_dataset[i][\"feature\"][0][j] \n",
    "\n",
    "    return feature_dataset_matrix, label_array"
   ]
  },
  {
   "cell_type": "markdown",
   "metadata": {},
   "source": [
    "# Creiamo il dataframe e il knn"
   ]
  },
  {
   "cell_type": "code",
   "execution_count": 10,
   "metadata": {
    "scrolled": true
   },
   "outputs": [
    {
     "name": "stdout",
     "output_type": "stream",
     "text": [
      "Avviato get_dataframe.\n",
      "Avviato extract_feature.\n",
      "0 1 2 3 4 5 6 7 8 9 10 11 12 13 14 15 16 17 18 19 20 21 22 23 24 25 26 27 28 29 30 31 32 33 34 35 36 37 38 39 40 41 42 43 44 45 46 47 48 49 50 51 52 53 54 55 56 57 58 59 60 61 62 63 64 65 66 67 68 69 70 71 72 73 74 75 76 77 78 79 80 81 82 83 84 85 86 87 88 89 90 91 92 93 94 95 96 97 98 99 100 101 102 103 104 105 106 107 108 109 110 111 112 113 114 115 116 117 118 119 120 121 122 123 124 125 126 127 128 129 130 131 132 133 134 135 136 137 138 139 140 141 142 143 144 145 146 147 148 149 150 151 152 153 154 155 156 157 158 159 160 161 162 163 164 165 166 167 168 169 170 171 172 173 174 175 176 177 178 179 180 181 182 183 184 185 186 187 188 189 190 191 192 193 194 195 196 197 198 199 200 201 202 203 204 205 206 207 208 209 210 211 212 213 214 215 216 217 218 219 220 221 222 223 224 225 226 227 228 229 230 231 232 233 234 235 236 237 238 239 240 241 242 243 244 245 246 247 248 249 250 251 252 253 254 255 256 257 258 259 260 261 262 263 264 265 266 267 268 269 270 271 272 273 274 275 276 277 278 279 280 281 282 283 284 285 286 287 288 289 290 291 292 293 294 295 296 297 298 299 300 301 "
     ]
    },
    {
     "data": {
      "text/plain": [
       "KNeighborsClassifier(algorithm='auto', leaf_size=30, metric='minkowski',\n",
       "                     metric_params=None, n_jobs=None, n_neighbors=1, p=2,\n",
       "                     weights='uniform')"
      ]
     },
     "execution_count": 10,
     "metadata": {},
     "output_type": "execute_result"
    }
   ],
   "source": [
    "knn_1 = KNN(n_neighbors=1)\n",
    "\n",
    "if torch.cuda.is_available():\n",
    "    net = net.cuda()\n",
    "    torch.cuda.empty_cache()\n",
    "net.eval()\n",
    "\n",
    "input_for_datafram_train, label_array_train = get_dataframe(barilla_train_loader, net)\n",
    "df = pd.DataFrame(input_for_datafram_train)\n",
    "knn_1.fit(df, label_array_train)"
   ]
  },
  {
   "cell_type": "code",
   "execution_count": 13,
   "metadata": {},
   "outputs": [
    {
     "name": "stdout",
     "output_type": "stream",
     "text": [
      "Avviato extract_feature.\n",
      "0.506578947368421\n"
     ]
    }
   ],
   "source": [
    "feature_test = extract_features(barilla_test_loader, net)\n",
    "print(accuracy(knn_1, feature_test))"
   ]
  },
  {
   "cell_type": "code",
   "execution_count": null,
   "metadata": {},
   "outputs": [],
   "source": []
  }
 ],
 "metadata": {
  "kernelspec": {
   "display_name": "Python 3",
   "language": "python",
   "name": "python3"
  },
  "language_info": {
   "codemirror_mode": {
    "name": "ipython",
    "version": 3
   },
   "file_extension": ".py",
   "mimetype": "text/x-python",
   "name": "python",
   "nbconvert_exporter": "python",
   "pygments_lexer": "ipython3",
   "version": "3.6.5"
  }
 },
 "nbformat": 4,
 "nbformat_minor": 2
}
