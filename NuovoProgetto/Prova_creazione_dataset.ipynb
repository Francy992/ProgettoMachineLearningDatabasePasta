{
 "cells": [
  {
   "cell_type": "code",
   "execution_count": 1,
   "metadata": {},
   "outputs": [],
   "source": [
    "#Variabilil globali\n",
    "width = 512\n",
    "height = 512"
   ]
  },
  {
   "cell_type": "code",
   "execution_count": 2,
   "metadata": {},
   "outputs": [],
   "source": [
    "from AlexNet import *\n",
    "from torch.utils.data.dataset import Dataset\n",
    "from PIL import Image\n",
    "from os import path\n",
    "from torchvision import transforms\n",
    "import numpy as np\n",
    "import torch\n",
    "from torch.utils.data import DataLoader\n",
    "\n",
    "np.random.seed(1234)\n",
    "torch.random.manual_seed(1234);\n",
    "\n",
    "class ScenesDataset(Dataset):\n",
    "    def __init__(self,base_path,txt_list,transform=None):\n",
    "        #conserviamo il path alla cartella contenente le immagini\n",
    "        self.base_path=base_path\n",
    "        #carichiamo la lista dei file\n",
    "        #sarà una matrice con n righe (numero di immagini) e 2 colonne (path, etichetta)\n",
    "        self.images = np.loadtxt(txt_list,dtype=str,delimiter=',')\n",
    "        #print(\"self.images ha i seguenti elementi:\", len(self.images))\n",
    "        #conserviamo il riferimento alla trasformazione da applicare\n",
    "        self.transform = transform\n",
    "    def __getitem__(self, index):\n",
    "        #print(\"Get item numero -->\", index)\n",
    "        #recuperiamo il path dell'immagine di indice index e la relativa etichetta\n",
    "        f,c = self.images[index]\n",
    "        #carichiamo l'immagine utilizzando PIL e facciamo il resize a 3 canali.\n",
    "        im = Image.open(path.join(self.base_path, f)).convert(\"RGB\")\n",
    "        \n",
    "        #Resize:\n",
    "        im = im.resize((width,height))\n",
    "        #se la trasfromazione è definita, applichiamola all'immagine\n",
    "        if self.transform is not None:\n",
    "            im = self.transform(im)\n",
    "        \n",
    "        \n",
    "        #convertiamo l'etichetta in un intero\n",
    "        label = int(c)\n",
    "        #restituiamo un dizionario contenente immagine etichetta\n",
    "        return {'image' : im, 'label':label}\n",
    "    #restituisce il numero di campioni: la lunghezza della lista \"images\"\n",
    "    def __len__(self):\n",
    "        #print(\"Ho invocato len, vale-->\", len(self.images))\n",
    "        return len(self.images)"
   ]
  },
  {
   "cell_type": "code",
   "execution_count": 3,
   "metadata": {},
   "outputs": [
    {
     "name": "stdout",
     "output_type": "stream",
     "text": [
      "torch.Size([3, 512, 512]) 0\n",
      "torch.Size([3, 512, 512]) 0\n",
      "torch.Size([3, 512, 512]) 1\n",
      "torch.Size([3, 512, 512]) 1\n",
      "torch.Size([3, 512, 512]) 2\n",
      "torch.Size([3, 512, 512]) 2\n"
     ]
    }
   ],
   "source": [
    "dataset = ScenesDataset('Dataset','train.txt',transform=transforms.ToTensor())\n",
    "for i in range(0, len(dataset)):\n",
    "    print(dataset[i]['image'].shape, dataset[i]['label'])\n",
    "\n"
   ]
  },
  {
   "cell_type": "code",
   "execution_count": 4,
   "metadata": {},
   "outputs": [],
   "source": [
    "#Normalizziamo i dati:\n",
    "#dataset = ScenesDataset('8scenes','8scenes/train.txt',transform=transforms.ToTensor())\n",
    "m = np.zeros(3)\n",
    "for sample in dataset:\n",
    "    m+= np.array(sample['image'].sum(1).sum(1)) #accumuliamo la somma dei pixel canale per canale\n",
    "#dividiamo per il numero di immagini moltiplicato per il numero di pixel\n",
    "m=m/(len(dataset)*width*height)\n",
    "#procedura simile per calcolare la deviazione standard\n",
    "s = np.zeros(3)\n",
    "for sample in dataset:\n",
    "    s+= np.array(((sample['image']-torch.Tensor(m).view(3,1,1))**2).sum(1).sum(1))\n",
    "s=np.sqrt(s/(len(dataset)*width*height))"
   ]
  },
  {
   "cell_type": "code",
   "execution_count": 5,
   "metadata": {},
   "outputs": [
    {
     "name": "stdout",
     "output_type": "stream",
     "text": [
      "Medie [0.83033568 0.70723725 0.52163703]\n",
      "Dev.Std. [0.12735092 0.22173076 0.26922328]\n"
     ]
    }
   ],
   "source": [
    "print(\"Medie\",m)\n",
    "print(\"Dev.Std.\",s)"
   ]
  },
  {
   "cell_type": "code",
   "execution_count": null,
   "metadata": {},
   "outputs": [],
   "source": []
  },
  {
   "cell_type": "code",
   "execution_count": 6,
   "metadata": {},
   "outputs": [
    {
     "name": "stdout",
     "output_type": "stream",
     "text": [
      "\n",
      "<__main__.ScenesDataset object at 0x000002AC987AC470>\n"
     ]
    }
   ],
   "source": [
    "transformss = transforms.Compose([transforms.ToTensor(), transforms.Normalize(m,s)])\n",
    "\n",
    "mnist_train = ScenesDataset('Dataset','train.txt',transform=transformss)\n",
    "mnist_test = ScenesDataset('Dataset','test.txt',transform=transformss)\n",
    "print()\n",
    "mnist_train_loader = torch.utils.data.DataLoader(mnist_train, batch_size=4, num_workers=0, shuffle=True)\n",
    "mnist_test_loader = torch.utils.data.DataLoader(mnist_test, batch_size=4, num_workers=0)\n",
    "print(mnist_train)"
   ]
  },
  {
   "cell_type": "code",
   "execution_count": 7,
   "metadata": {},
   "outputs": [],
   "source": [
    "from torch import nn\n",
    "class LeNetColor(nn.Module):\n",
    "    def __init__(self):\n",
    "        super(LeNetColor, self).__init__()\n",
    "        #ridefiniamo il modello utilizzando i moduli sequential.\n",
    "        #ne definiamo due: un \"feature extractor\", che estrae le feature maps\n",
    "        #e un \"classificatore\" che implementa i livelly FC\n",
    "        self.feature_extractor = nn.Sequential(\n",
    "        nn.Conv2d(3, 18, 5), #Input: 3 x 32 x 32. Ouput: 18 x 28 x 28\n",
    "        nn.MaxPool2d(2), #Input: 18 x 28 x 28. Output: 18 x 14 x 14\n",
    "        nn.ReLU(),\n",
    "        nn.Conv2d(18, 28, 5), #Input 18 x 14 x 14. Output: 28 x 10 x 10\n",
    "        nn.MaxPool2d(2), #Input 28 x 10 x 10. Output: 28 x 5 x 5\n",
    "        nn.ReLU()\n",
    "        )\n",
    "        self.classifier = nn.Sequential(\n",
    "        nn.Linear(700, 360), #Input: 28 * 5 * 5\n",
    "        nn.ReLU(),\n",
    "        nn.Linear(360, 252),\n",
    "        nn.ReLU(),\n",
    "        nn.Linear(252, 100)\n",
    "        )\n",
    "    def forward(self,x):\n",
    "        #Applichiamo le diverse trasformazioni in cascata\n",
    "        x = self.feature_extractor(x)\n",
    "        x = self.classifier(x.view(x.shape[0],-1))\n",
    "        return x"
   ]
  },
  {
   "cell_type": "code",
   "execution_count": 8,
   "metadata": {},
   "outputs": [
    {
     "data": {
      "text/plain": [
       "57016131"
      ]
     },
     "execution_count": 8,
     "metadata": {},
     "output_type": "execute_result"
    }
   ],
   "source": [
    "net = AlexNet()\n",
    "sum([p.numel() for p in net.parameters()])"
   ]
  },
  {
   "cell_type": "code",
   "execution_count": 9,
   "metadata": {},
   "outputs": [],
   "source": [
    "from sklearn.metrics import accuracy_score\n",
    "from torch.optim import SGD\n",
    "from torch.autograd import Variable\n",
    "def train_classification(model, lr=0.01, epochs=20, momentum=0.9, \\\n",
    "    train_loader=mnist_train_loader, test_loader=mnist_test_loader):\n",
    "    criterion = nn.CrossEntropyLoss()\n",
    "    optimizer = SGD(model.parameters(),lr, momentum=momentum)\n",
    "    loaders = {'train':train_loader, 'test':test_loader}\n",
    "    losses = {'train':[], 'test':[]}\n",
    "    accuracies = {'train':[], 'test':[]}\n",
    "    if torch.cuda.is_available():\n",
    "        model=model.cuda()\n",
    "    for e in range(epochs):\n",
    "        #print(\"Primo ciclo for.\")\n",
    "        for mode in ['train', 'test']:\n",
    "            #print(\"Secondo ciclo for.\")\n",
    "            if mode=='train':\n",
    "                model.train()\n",
    "            else:\n",
    "                model.eval()\n",
    "            epoch_loss = 0\n",
    "            epoch_acc = 0\n",
    "            samples = 0\n",
    "            #print(\"Mode-->\",mode)\n",
    "            #print(\"Enumerate-->\", loaders[mode])\n",
    "            for i, batch in enumerate(loaders[mode]):\n",
    "                #trasformiamo i tensori in variabili\n",
    "                x=Variable(batch['image'], requires_grad=(mode=='train'))\n",
    "                y=Variable(batch['label'])\n",
    "                if torch.cuda.is_available():\n",
    "                    x, y = x.cuda(), y.cuda()\n",
    "                    print(\"Con cuda\")\n",
    "                #else:\n",
    "                    #print(\"Senza cuda\")\n",
    "                output = model(x)\n",
    "                #print(type(output))\n",
    "                #print(output)\n",
    "                l = criterion(output,y)\n",
    "                if mode=='train':\n",
    "                    l.backward()\n",
    "                    optimizer.step()\n",
    "                    optimizer.zero_grad()\n",
    "                #print(\"L-->\",l.item())\n",
    "                acc = accuracy_score(y.cpu().data,output.cpu().max(1)[1].data)\n",
    "                epoch_loss+=l.data.item()*x.shape[0]\n",
    "                epoch_acc+=acc*x.shape[0]\n",
    "                samples+=x.shape[0]\n",
    "                print (\"\\r[%s] Epoch %d/%d. Iteration %d/%d. Loss: %0.2f. Accuracy: %0.2f\\t\\t\\t\\t\\t\" % \\\n",
    "                (mode, e+1, epochs, i, len(loaders[mode]), epoch_loss/samples, epoch_acc/samples),\n",
    "                epoch_loss/samples,\n",
    "                epoch_acc/samples,\n",
    "                losses[mode].append(epoch_loss))\n",
    "                accuracies[mode].append(epoch_acc)\n",
    "            #print(\"Fine secondo ciclo for\")\n",
    "        print(\"\\r[%s] Epoch %d/%d. Iteration %d/%d. Loss: %0.2f. Accuracy: %0.2f\\t\\t\\t\\t\\t\" % \\\n",
    "        (mode, e+1, epochs, i, len(loaders[mode]), epoch_loss, epoch_acc))\n",
    "\n",
    "    print(\"Ho finito.\")\n",
    "    #restituiamo il modello e i vari log\n",
    "    return model, (losses, accuracies)"
   ]
  },
  {
   "cell_type": "code",
   "execution_count": 15,
   "metadata": {
    "scrolled": true
   },
   "outputs": [
    {
     "name": "stdout",
     "output_type": "stream",
     "text": [
      "[train] Epoch 1/5. Iteration 0/2. Loss: 1.10. Accuracy: 0.25\t\t\t\t\t 1.0989370346069336 0.25 None\n",
      "[train] Epoch 1/5. Iteration 1/2. Loss: 1.10. Accuracy: 0.17\t\t\t\t\t 1.0995112657546997 0.16666666666666666 None\n",
      "[test] Epoch 1/5. Iteration 0/1. Loss: 1.10. Accuracy: 0.33\t\t\t\t\t 1.0981601476669312 0.3333333333333333 None\n",
      "[test] Epoch 1/5. Iteration 0/1. Loss: 3.29. Accuracy: 1.00\t\t\t\t\t\n",
      "[train] Epoch 2/5. Iteration 0/2. Loss: 1.09. Accuracy: 0.50\t\t\t\t\t 1.0947113037109375 0.5 None\n",
      "[train] Epoch 2/5. Iteration 1/2. Loss: 1.10. Accuracy: 0.33\t\t\t\t\t 1.0984674294789631 0.3333333333333333 None\n",
      "[test] Epoch 2/5. Iteration 0/1. Loss: 1.10. Accuracy: 0.33\t\t\t\t\t 1.098000407218933 0.3333333333333333 None\n",
      "[test] Epoch 2/5. Iteration 0/1. Loss: 3.29. Accuracy: 1.00\t\t\t\t\t\n",
      "[train] Epoch 3/5. Iteration 0/2. Loss: 1.11. Accuracy: 0.00\t\t\t\t\t 1.1055169105529785 0.0 None\n",
      "[train] Epoch 3/5. Iteration 1/2. Loss: 1.10. Accuracy: 0.00\t\t\t\t\t 1.1016132831573486 0.0 None\n",
      "[test] Epoch 3/5. Iteration 0/1. Loss: 1.10. Accuracy: 0.33\t\t\t\t\t 1.0975652933120728 0.3333333333333333 None\n",
      "[test] Epoch 3/5. Iteration 0/1. Loss: 3.29. Accuracy: 1.00\t\t\t\t\t\n",
      "[train] Epoch 4/5. Iteration 0/2. Loss: 1.10. Accuracy: 0.25\t\t\t\t\t 1.0997639894485474 0.25 None\n",
      "[train] Epoch 4/5. Iteration 1/2. Loss: 1.09. Accuracy: 0.50\t\t\t\t\t 1.094992717107137 0.5 None\n",
      "[test] Epoch 4/5. Iteration 0/1. Loss: 1.10. Accuracy: 0.33\t\t\t\t\t 1.0971702337265015 0.3333333333333333 None\n",
      "[test] Epoch 4/5. Iteration 0/1. Loss: 3.29. Accuracy: 1.00\t\t\t\t\t\n",
      "[train] Epoch 5/5. Iteration 0/2. Loss: 1.08. Accuracy: 0.75\t\t\t\t\t 1.0836570262908936 0.75 None\n",
      "[train] Epoch 5/5. Iteration 1/2. Loss: 1.10. Accuracy: 0.50\t\t\t\t\t 1.100340445836385 0.5 None\n",
      "[test] Epoch 5/5. Iteration 0/1. Loss: 1.10. Accuracy: 0.33\t\t\t\t\t 1.0968412160873413 0.3333333333333333 None\n",
      "[test] Epoch 5/5. Iteration 0/1. Loss: 3.29. Accuracy: 1.00\t\t\t\t\t\n",
      "Ho finito.\n"
     ]
    }
   ],
   "source": [
    "lenet_mnist, lenet_mnist_logs = train_classification(net, epochs=5)"
   ]
  },
  {
   "cell_type": "code",
   "execution_count": 16,
   "metadata": {},
   "outputs": [],
   "source": [
    "from matplotlib import pyplot as plt\n",
    "def plot_logs_classification(logs):\n",
    "    training_losses, training_accuracies, test_losses, test_accuracies = \\\n",
    "    logs[0]['train'], logs[1]['train'], logs[0]['test'], logs[1]['test']\n",
    "    plt.figure(figsize=(18,6))\n",
    "    plt.subplot(121)\n",
    "    plt.plot(training_losses)\n",
    "    plt.plot(test_losses)\n",
    "    plt.legend(['Training Loss','Test Losses'])\n",
    "    plt.grid()\n",
    "    plt.subplot(122)\n",
    "    plt.plot(training_accuracies)\n",
    "    plt.plot(test_accuracies)\n",
    "    plt.legend(['Training Accuracy','Test Accuracy'])\n",
    "    plt.grid()\n",
    "    plt.show()"
   ]
  },
  {
   "cell_type": "code",
   "execution_count": 17,
   "metadata": {},
   "outputs": [
    {
     "data": {
      "image/png": "[encoded data removed]",
      "text/plain": [
       "<Figure size 1296x432 with 2 Axes>"
      ]
     },
     "metadata": {
      "needs_background": "light"
     },
     "output_type": "display_data"
    }
   ],
   "source": [
    "plot_logs_classification(lenet_mnist_logs)"
   ]
  },
  {
   "cell_type": "code",
   "execution_count": 18,
   "metadata": {},
   "outputs": [],
   "source": [
    "import numpy as np\n",
    "def test_model_classification(model, test_loader = mnist_test_loader):\n",
    "    softmax = nn.Softmax(dim=1)\n",
    "    model.eval()\n",
    "    preds = []\n",
    "    gts = []\n",
    "    for batch in test_loader:\n",
    "        x=Variable(batch[\"image\"])\n",
    "        #applichiamo la funzione softmax per avere delle probabilità\n",
    "        if torch.cuda.is_available():\n",
    "            x = x.cuda()\n",
    "        pred = softmax(model(x)).data.cpu().numpy().copy()\n",
    "        gt = batch[\"label\"].cpu().numpy().copy()\n",
    "        print(\"Pred-->\", pred, \", gt-->\", gt)\n",
    "        preds.append(pred)\n",
    "        gts.append(gt)\n",
    "        #print(len(preds), len(gts))\n",
    "    return np.concatenate(preds),np.concatenate(gts)"
   ]
  },
  {
   "cell_type": "code",
   "execution_count": 19,
   "metadata": {},
   "outputs": [
    {
     "name": "stdout",
     "output_type": "stream",
     "text": [
      "Pred--> [[0.32257077 0.34484223 0.332587  ]\n",
      " [0.32305568 0.34464824 0.33229607]\n",
      " [0.3225107  0.34256816 0.33492118]] , gt--> [0 1 2]\n",
      "Accuracy LeNet su DIGITS: 0.33\n"
     ]
    }
   ],
   "source": [
    "lenet_mnist_predictions, lenet_mnist_gt = test_model_classification(net)\n",
    "print (\"Accuracy LeNet su DIGITS: %0.2f\" % \\\n",
    "accuracy_score(lenet_mnist_gt,lenet_mnist_predictions.argmax(1)))"
   ]
  },
  {
   "cell_type": "code",
   "execution_count": null,
   "metadata": {},
   "outputs": [],
   "source": []
  },
  {
   "cell_type": "code",
   "execution_count": null,
   "metadata": {},
   "outputs": [],
   "source": []
  },
  {
   "cell_type": "code",
   "execution_count": null,
   "metadata": {},
   "outputs": [],
   "source": []
  }
 ],
 "metadata": {
  "kernelspec": {
   "display_name": "Python 3",
   "language": "python",
   "name": "python3"
  },
  "language_info": {
   "codemirror_mode": {
    "name": "ipython",
    "version": 3
   },
   "file_extension": ".py",
   "mimetype": "text/x-python",
   "name": "python",
   "nbconvert_exporter": "python",
   "pygments_lexer": "ipython3",
   "version": "3.7.3"
  }
 },
 "nbformat": 4,
 "nbformat_minor": 2
}
