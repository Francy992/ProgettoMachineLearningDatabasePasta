{
 "cells": [
  {
   "cell_type": "code",
   "execution_count": 21,
   "metadata": {},
   "outputs": [],
   "source": [
    "from torch.utils.data.dataset import Dataset\n",
    "from PIL import Image\n",
    "from os import path\n",
    "import numpy as np\n",
    "class ScenesDataset(Dataset):\n",
    "       \n",
    "        def __init__(self, base_path, txt_list, transform = None):\n",
    "            self.base_path = base_path\n",
    "            self.images = np.loadtxt(txt_list, dtype=str, delimiter = ',')\n",
    "            print(self.images.shape)\n",
    "            self.transform = transform\n",
    "        \n",
    "        def __getitem__(self, index):\n",
    "            print(\"Item\", index)\n",
    "            f,c = self.images[index]\n",
    "            im = Image.open(path.join(self.base_path, f))\n",
    "            \n",
    "            if self.transform is not None:\n",
    "                im = self.transform(im)\n",
    "            \n",
    "            label = int(c)\n",
    "            return {'image':im, 'label':label}\n",
    "        \n",
    "        def __len__(self):\n",
    "            return len(self.images)\n",
    "            \n",
    "            \n",
    "            "
   ]
  },
  {
   "cell_type": "code",
   "execution_count": 22,
   "metadata": {},
   "outputs": [
    {
     "name": "stdout",
     "output_type": "stream",
     "text": [
      "(2188, 2)\n",
      "Item 0\n",
      "torch.Size([3, 256, 256])\n",
      "1\n"
     ]
    }
   ],
   "source": [
    "from torchvision import transforms\n",
    "dataset = ScenesDataset('8scenes','8scenes/train.txt', transform = transforms.ToTensor())\n",
    "sample = dataset[0]\n",
    "#l'immagine è 3 x 256 x 256 perché è una immagine a colori\n",
    "print(sample['image'].shape)\n",
    "print(sample['label'])"
   ]
  },
  {
   "cell_type": "code",
   "execution_count": null,
   "metadata": {},
   "outputs": [],
   "source": []
  }
 ],
 "metadata": {
  "kernelspec": {
   "display_name": "Python 3",
   "language": "python",
   "name": "python3"
  },
  "language_info": {
   "codemirror_mode": {
    "name": "ipython",
    "version": 3
   },
   "file_extension": ".py",
   "mimetype": "text/x-python",
   "name": "python",
   "nbconvert_exporter": "python",
   "pygments_lexer": "ipython3",
   "version": "3.6.5"
  }
 },
 "nbformat": 4,
 "nbformat_minor": 2
}
